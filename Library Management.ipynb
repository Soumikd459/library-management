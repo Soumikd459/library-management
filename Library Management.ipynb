{
 "cells": [
  {
   "cell_type": "markdown",
   "id": "2563ff05",
   "metadata": {},
   "source": [
    "Write a Library class with no_of_books and books as two instance variables. Write a program to create a library from this Library class and show how you can print all books, add a book and get the number of books using different methods. Show that your program doesnt persist the books after the program is stopped!\n",
    "\n"
   ]
  },
  {
   "cell_type": "code",
   "execution_count": 7,
   "id": "fa13f34e",
   "metadata": {},
   "outputs": [
    {
     "name": "stdout",
     "output_type": "stream",
     "text": [
      "The library has 3. The books are \n",
      "harry potter1\n",
      "harry potter2\n",
      "harry potter3\n"
     ]
    }
   ],
   "source": [
    "\n",
    "class Library:\n",
    "    def __init__(self):\n",
    "        self.no_of_books = 0\n",
    "        self.books = []\n",
    "        \n",
    "    def add_books(self,book):\n",
    "        self.books.append(book)\n",
    "        self.no_of_books = len(self.books)\n",
    "        \n",
    "        \n",
    "    def showinfo(self):\n",
    "        print(f\"The library has {self.no_of_books}. The books are \")\n",
    "        for book in self.books:\n",
    "            print(book)\n",
    "                \n",
    "l1 = Library()\n",
    "l1.add_books('harry potter1')\n",
    "l1.add_books('harry potter2')\n",
    "l1.add_books('harry potter3')\n",
    "\n",
    "l1.showinfo()\n",
    "        "
   ]
  },
  {
   "cell_type": "markdown",
   "id": "130b5d0d",
   "metadata": {},
   "source": [
    "# While(jab tak hey jaan = till the cond. is true)Vs For (untill the list/dict will end)"
   ]
  },
  {
   "cell_type": "code",
   "execution_count": 8,
   "id": "3bbc8bc7",
   "metadata": {},
   "outputs": [
    {
     "name": "stdout",
     "output_type": "stream",
     "text": [
      "0\n",
      "1\n",
      "2\n",
      "3\n",
      "4\n"
     ]
    }
   ],
   "source": [
    "i=0\n",
    "while(i<5):\n",
    "    print(i)\n",
    "    i=i+1     # if condition of i is not provided then the loop will run forever // too stop the func we provide cond."
   ]
  },
  {
   "cell_type": "code",
   "execution_count": 9,
   "id": "b6b011a5",
   "metadata": {},
   "outputs": [
    {
     "name": "stdout",
     "output_type": "stream",
     "text": [
      "Enter num 1\n",
      "4\n",
      "Enter num 2\n",
      "5\n",
      "The sum is 9\n"
     ]
    }
   ],
   "source": [
    "print ('Enter num 1')\n",
    "num1 = input()\n",
    "print ('Enter num 2')\n",
    "num2 = input()\n",
    "print ('The sum is', int(num1) + int(num2))  # if we put str then it will through errors"
   ]
  },
  {
   "cell_type": "markdown",
   "id": "00f6d308",
   "metadata": {},
   "source": [
    "# Try, Except & Finally\n",
    "\n",
    "1. try Block:\n",
    "The try block is used to enclose the code that may raise an exception. It allows you to test a block of code for errors.\n",
    "\n",
    "2. except Block:\n",
    "The except block is used to handle the exception raised in the try block. If an exception occurs inside the try block, the control immediately jumps to the except block.\n",
    "\n",
    "3. finally Block:\n",
    "The finally block is used to execute code regardless of whether an exception occurs or not. It is often used to perform cleanup actions, such as closing files or releasing resources."
   ]
  },
  {
   "cell_type": "code",
   "execution_count": 10,
   "id": "9cd71b77",
   "metadata": {},
   "outputs": [
    {
     "name": "stdout",
     "output_type": "stream",
     "text": [
      "An error occurred: division by zero\n",
      "Cleanup code executed.\n"
     ]
    }
   ],
   "source": [
    "try:\n",
    "    # Code that may raise an exception\n",
    "    x = 10 / 0  # Division by zero\n",
    "\n",
    "except Exception as e:\n",
    "    # Handle any other exceptions\n",
    "    print(\"An error occurred:\", e)\n",
    "finally:\n",
    "    # Cleanup code that always executes\n",
    "    print(\"Cleanup code executed.\")"
   ]
  },
  {
   "cell_type": "code",
   "execution_count": 11,
   "id": "dfab0681",
   "metadata": {},
   "outputs": [
    {
     "name": "stdout",
     "output_type": "stream",
     "text": [
      "Enter num 1\n",
      "5\n",
      "Enter num 2\n",
      "6\n",
      "The sum is 11\n",
      "this line is important\n"
     ]
    }
   ],
   "source": [
    "print ('Enter num 1')\n",
    "num1 = input()\n",
    "print ('Enter num 2')\n",
    "num2 = input()\n",
    "try:\n",
    "    print ('The sum is', int(num1) + int(num2))\n",
    "except Exception as e:\n",
    "    print(e)\n",
    "    \n",
    "print('this line is important')\n",
    "    \n"
   ]
  },
  {
   "cell_type": "markdown",
   "id": "1e9d1ead",
   "metadata": {},
   "source": [
    "# Write a Library class with no_of_books and books as two instance variables. Write a program to create a library from this Library class and show how you can print all books, add a book and get the number of books using different methods. Show that your program doesnt persist the books after the program is stopped!"
   ]
  },
  {
   "cell_type": "code",
   "execution_count": null,
   "id": "387de993",
   "metadata": {},
   "outputs": [],
   "source": []
  },
  {
   "cell_type": "code",
   "execution_count": null,
   "id": "958da630",
   "metadata": {},
   "outputs": [],
   "source": []
  },
  {
   "cell_type": "code",
   "execution_count": null,
   "id": "27f1edc2",
   "metadata": {},
   "outputs": [],
   "source": []
  },
  {
   "cell_type": "code",
   "execution_count": null,
   "id": "166f2227",
   "metadata": {},
   "outputs": [],
   "source": []
  },
  {
   "cell_type": "code",
   "execution_count": null,
   "id": "29c5633a",
   "metadata": {},
   "outputs": [],
   "source": []
  },
  {
   "cell_type": "code",
   "execution_count": null,
   "id": "94b21f59",
   "metadata": {},
   "outputs": [],
   "source": []
  },
  {
   "cell_type": "code",
   "execution_count": null,
   "id": "9bfde3a6",
   "metadata": {},
   "outputs": [],
   "source": []
  },
  {
   "cell_type": "code",
   "execution_count": null,
   "id": "d4201540",
   "metadata": {},
   "outputs": [],
   "source": []
  },
  {
   "cell_type": "code",
   "execution_count": null,
   "id": "e80f5019",
   "metadata": {},
   "outputs": [],
   "source": []
  },
  {
   "cell_type": "code",
   "execution_count": null,
   "id": "468a82e7",
   "metadata": {},
   "outputs": [],
   "source": []
  },
  {
   "cell_type": "code",
   "execution_count": null,
   "id": "03ceeca1",
   "metadata": {},
   "outputs": [],
   "source": []
  },
  {
   "cell_type": "code",
   "execution_count": null,
   "id": "f5230405",
   "metadata": {},
   "outputs": [],
   "source": []
  },
  {
   "cell_type": "code",
   "execution_count": null,
   "id": "2c2167e5",
   "metadata": {},
   "outputs": [],
   "source": []
  },
  {
   "cell_type": "code",
   "execution_count": null,
   "id": "e6d072dc",
   "metadata": {},
   "outputs": [],
   "source": []
  }
 ],
 "metadata": {
  "kernelspec": {
   "display_name": "Python 3 (ipykernel)",
   "language": "python",
   "name": "python3"
  },
  "language_info": {
   "codemirror_mode": {
    "name": "ipython",
    "version": 3
   },
   "file_extension": ".py",
   "mimetype": "text/x-python",
   "name": "python",
   "nbconvert_exporter": "python",
   "pygments_lexer": "ipython3",
   "version": "3.11.5"
  }
 },
 "nbformat": 4,
 "nbformat_minor": 5
}
